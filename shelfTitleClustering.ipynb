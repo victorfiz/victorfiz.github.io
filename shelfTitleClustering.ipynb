{
  "nbformat": 4,
  "nbformat_minor": 0,
  "metadata": {
    "colab": {
      "provenance": [],
      "authorship_tag": "ABX9TyN+9STEiMCohJI1UnCfxhFx",
      "include_colab_link": true
    },
    "kernelspec": {
      "name": "python3",
      "display_name": "Python 3"
    },
    "language_info": {
      "name": "python"
    }
  },
  "cells": [
    {
      "cell_type": "markdown",
      "metadata": {
        "id": "view-in-github",
        "colab_type": "text"
      },
      "source": [
        "<a href=\"https://colab.research.google.com/github/victorfiz/victorfiz.github.io/blob/main/shelfTitleClustering.ipynb\" target=\"_parent\"><img src=\"https://colab.research.google.com/assets/colab-badge.svg\" alt=\"Open In Colab\"/></a>"
      ]
    },
    {
      "cell_type": "code",
      "execution_count": null,
      "metadata": {
        "id": "z3BftYdeL7lE"
      },
      "outputs": [],
      "source": [
        "book_and_resource_list = [\n",
        "    \"Trivers–Willard hypothesis\",\n",
        "    \"Cosmic Natural Selection\",\n",
        "    \"Steve Jobs – Walter Isaacson\",\n",
        "    \"The Structure of Scientific Revolutions\",\n",
        "    \"Zero to One – Peter Thiel\",\n",
        "    \"John Stuart Mill – Autobiography\",\n",
        "    \"Classical Mechanics – Leonard Susskind\",\n",
        "    \"Bureaucracy – Ludwig von Mises\",\n",
        "    \"Human Compatible\",\n",
        "    \"The Hitchhiker’s Guide to the Galaxy\",\n",
        "    \"The History of Philosophy\",\n",
        "    \"Crime and Punishment\",\n",
        "    \"The Moon is a Harsh Mistress\",\n",
        "    \"Brave New World – Aldous Huxley\",\n",
        "    \"The Electric Kool-Aid Acid Test\",\n",
        "    \"The Beginning of Infinity – David Deutsch\",\n",
        "    \"Meditations – Marcus Aurelius\",\n",
        "    \"New Atlantis – Francis Bacon\",\n",
        "    \"The Little Book on Deep Learning\",\n",
        "    \"Advice to Young People: The Lies they Tell You\",\n",
        "    \"Neuromorphic Computing: Semiconductors to Josephson Junctions\",\n",
        "    \"Nabeel Quereshi – Principles\",\n",
        "    \"Maxwell’s demon – An Attempt to Disprove the 2nd Law of Thermodynamics\",\n",
        "    \"Incrementalism\",\n",
        "    \"How To Sell – Nabeel Quereshi\",\n",
        "    \"St Petersburg Paradox\",\n",
        "    \"Interpretability\",\n",
        "    \"Optimise for Volatility\",\n",
        "    \"Tactics to grow social media\",\n",
        "    \"Tracy Young Plangrid Startup Advice\",\n",
        "    \"Smart Contracts (1994) Nick Szabo\",\n",
        "    \"What Every Successful Person Knows, But Never Says\",\n",
        "    \"Building Products – Christina Cacioppo\",\n",
        "    \"Marketing to Developers\",\n",
        "    \"80,000 Hours\",\n",
        "    \"Job Titles in Startups\",\n",
        "    \"Nuggets of Wisdom: Berkshire Shareholder Letters\",\n",
        "    \"Command-line Interface\",\n",
        "    \"Startup tools– free\",\n",
        "    \"Superhuman CEO Blog\",\n",
        "    \"Freeman Dyson Heresies\",\n",
        "    \"How Markets Determine Price\",\n",
        "    \"Berkshire Annual Reports\",\n",
        "    \"Marc Andreesen\",\n",
        "    \"Gitlab Manual\",\n",
        "    \"Super Founders Statistics\",\n",
        "    \"HBS 1963\",\n",
        "    \"David Hume and Adam Smith: The Infidel and the Professor\",\n",
        "    \"The Royal Society & The Invention of Modern Science\",\n",
        "    \"The Innovator’s Dilemma\",\n",
        "    \"Complexity – Mitchell Waldrop\",\n",
        "    \"A Short History of Nearly Everything – Bill Bryson\",\n",
        "    \"Deep Learning Interview Questions\",\n",
        "    \"Dianetics: The Modern Science of Mental Health\",\n",
        "    \"Fundraising – Ryan Breslow\",\n",
        "    \"The Last Question – Isaac Asimov\",\n",
        "    \"Dostoevsky – Notes from the Underground\",\n",
        "    \"Philosophy is a Meaningless Life\",\n",
        "    \"The Law – Frédéric Bastiat\",\n",
        "    \"The Gay Science: Nietzsche\",\n",
        "    \"Scaling People: Tactics for Management and Company Building\",\n",
        "    \"High Growth Handbook: Scaling Startups from 10 to 10,000 People\",\n",
        "    \"Napoleon: A life\",\n",
        "    \"Elon Musk – Walter Isaacson\",\n",
        "    \"Skin in the game – Nassim Taleb\",\n",
        "    \"Atlas Shrugged – Ayn Rand\",\n",
        "    \"Immoderate Greatness: Why Civilizations Fail\",\n",
        "    \"The Outsider – Albert Camus\",\n",
        "    \"The Metamorphosis of Prime Intellect\",\n",
        "    \"No Man Is An Island: A Study Of Singapore's Lee Kuan Yew\",\n",
        "    \"John Maynard Keynes: 1883-1946: Economist, Philosopher, Statesman\",\n",
        "    \"The Corrections – Jonathan Franzen\",\n",
        "    \"Principles – Ray Dalio\",\n",
        "    \"Monetising Innovation – Madhavan Ramanujan\",\n",
        "    \"Experimental Conversations – Timothy Odgen\",\n",
        "    \"The Beauty of Mathematics in Computer Science – Jun Wu\",\n",
        "    \"Grit: The Power of Passion and Perseverance\",\n",
        "    \"The Fountainhead – Ayn Rand\",\n",
        "    \"The Company Valuation Playbook\",\n",
        "    \"Invent and Wander (Jeff Bezos) – Walter Isaacson\",\n",
        "    \"Trillion Dollar Coach — Eric Schmidt\",\n",
        "    \"The Art of Statistics\",\n",
        "    \"The Hard Thing About Hard Things – Ben Horowitz\",\n",
        "    \"No Rules (Netflix) – Reed Hastings\",\n",
        "    \"The Phoenix Project\",\n",
        "    \"Delivering Happiness\",\n",
        "    \"The Ancient City – Imperium Press\",\n",
        "    \"The Machiavellians: Defenders of Freedom\",\n",
        "    \"Margin of Safety – Seth Klarman\",\n",
        "    \"Poor Charlie’s Almanac\",\n",
        "    \"Silicon Valley group blog\",\n",
        "    \"The Intelligent Investor – Benjamin Graham\",\n",
        "    \"Visualisations and Design\",\n",
        "    \"Statistics + Probability Exercises\",\n",
        "    \"How to Raise VC – Vinod Khosla\",\n",
        "    \"Sales Advice (B2B) – Retool CEO\",\n",
        "    \"Learning by Writing\",\n",
        "    \"Talking to customers\",\n",
        "    \"Deep Learning Jupyter Notebook Exercises\",\n",
        "    \"Andrej Karpathy | Machine Learning\",\n",
        "    \"Automate the Boring Stuff\",\n",
        "    \"Learn Blind Typing\",\n",
        "    \"Cambridge Mathematics Tripos Notes\",\n",
        "    \"DCF Model from scratch\",\n",
        "    \"Modern Web Development JS\",\n",
        "    \"Fetches random web 1.0 pages\",\n",
        "    \"George Hotz: hiring\",\n",
        "    \"Startup Advice – Keith Rabois\",\n",
        "    \"Philosophy of Life – Guy that did the MIT challenge\",\n",
        "    \"Why friendships don’t last forever\",\n",
        "    \"Resources for quickly learning about AI\",\n",
        "    \"MIT Learning Challenge – How to Learn Fast\",\n",
        "    \"Machine Learning Resources\",\n",
        "    \"Essays about Scaling Startups\",\n",
        "    \"How to be a great CTO\",\n",
        "    \"List of Books about VC – Christina Cacioppo\",\n",
        "    \"Bridgewater Insights Live\",\n",
        "    \"Improving SEO\",\n",
        "    \"Portfolio Optimisation Package – Robert Martin\",\n",
        "    \"Glide OpenAI Image Generation\",\n",
        "    \"Brian Armstrong – HN Post: Looking for a co-founder!\",\n",
        "    \"Sam Altman – How to succeed in your career\",\n",
        "    \"How to hire – Suhail\",\n",
        "    \"James Baldwin Speech Cambridge Union\",\n",
        "    \"Warren Buffet – Life, risk, principles, etc.\",\n",
        "    \"Jeff Bezos (2001)\",\n",
        "    \"The Future of Programming\",\n",
        "    \"Design – Incredible Story Telling\",\n",
        "    \"Stephen Schwazman – Family & Startup\",\n",
        "    \"Video Advert – SaaS\",\n",
        "    \"Maximising User Happiness Unscalably – Patrick Collison\",\n",
        "    \"How to build character into product\",\n",
        "    \"Mailchimp Founder: on money, family, early startup\",\n",
        "    \"Marc Andreesen: History of Technology\",\n",
        "    \"Nabeel Qureshi Advice\",\n",
        "    \"Early Stage Investors Database\",\n",
        "    \"Nat Friedman (Github CEO) Advice\",\n",
        "    \"Our World in Data\",\n",
        "    \"Patrick Collison Book Recommendations\",\n",
        "    \"Do Not Go Gentle into That Good Night – Dylan Thomas\",\n",
        "    \"If – Rudyard Kipling\",\n",
        "    \"A Thank You letter – Instacart\",\n",
        "    \"You can’t tell people anything\",\n",
        "    \"The Bitter Lesson – AI Progress via Scaling\",\n",
        "    \"On the shortness of life – Seneca\",\n",
        "    \"Advice at 30 years old for my 20s\",\n",
        "    \"How to become a magnet for talent\",\n",
        "    \"Unqualified Reservations\",\n",
        "    \"Unabomber Manifesto\",\n",
        "    \"Most people want to change the world\",\n",
        "    \"Sam Altman – Read this when your company is scaling\",\n",
        "    \"State of ML each year: 2017-Present\",\n",
        "    \"Recruiting - Vinod Khosla\",\n",
        "    \"Sam Altman - How to be Successful\",\n",
        "    \"Sam Altman – the days are long but the decades are short\",\n",
        "    \"How to update investors on progress\",\n",
        "    \"Suhail Doshi – How to start a startup\"\n",
        "]\n"
      ]
    },
    {
      "cell_type": "code",
      "source": [
        "titleArray = [\"Trivers–Willard hypothesis\",\n",
        "    \"Cosmic Natural Selection\",\n",
        "    \"Steve Jobs – Walter Isaacson\",\n",
        "    \"The Structure of Scientific Revolutions\",\n",
        "    \"Zero to One – Peter Thiel\",\n",
        "    \"John Stuart Mill – Autobiography\",\n",
        "    \"Classical Mechanics – Leonard Susskind\",\n",
        "    \"Bureaucracy – Ludwig von Mises\",\n",
        "    \"Human Compatible\",\n",
        "    \"The Hitchhiker’s Guide to the Galaxy\",\n",
        "    \"The History of Philosophy\",\n",
        "    \"Crime and Punishment\",\n",
        "    \"The Moon is a Harsh Mistress\",\n",
        "    \"Brave New World – Aldous Huxley\",\n",
        "    \"The Electric Kool-Aid Acid Test\",\n",
        "    \"The Beginning of Infinity – David Deutsch\",\n",
        "    \"Meditations – Marcus Aurelius\",\n",
        "    \"New Atlantis – Francis Bacon\",\n",
        "    \"The Little Book on Deep Learning\",\n",
        "    \"Advice to Young People: The Lies they Tell You\",\n",
        "    \"Neuromorphic Computing: Semiconductors to Josephson Junctions\",\n",
        "    \"Nabeel Quereshi – Principles\",\n",
        "    \"Maxwell’s demon – An Attempt to Disprove the 2nd Law of Thermodynamics\",\n",
        "    \"Incrementalism\",\n",
        "    \"How To Sell – Nabeel Quereshi\",\n",
        "    \"St Petersburg Paradox\",\n",
        "    \"Interpretability\",\n",
        "    \"Optimise for Volatility\",\n",
        "    \"Tactics to grow social media\",\n",
        "    \"Tracy Young Plangrid Startup Advice\",\n",
        "    \"Smart Contracts (1994) Nick Szabo\",\n",
        "    \"What Every Successful Person Knows, But Never Says\",\n",
        "    \"Building Products – Christina Cacioppo\",\n",
        "    \"Marketing to Developers\",\n",
        "    \"80,000 Hours\",\n",
        "    \"Job Titles in Startups\",\n",
        "    \"Nuggets of Wisdom: Berkshire Shareholder Letters\",\n",
        "    \"Command-line Interface\",\n",
        "    \"Startup tools– free\",\n",
        "    \"Superhuman CEO Blog\",\n",
        "    \"Freeman Dyson Heresies\",\n",
        "    \"How Markets Determine Price\",\n",
        "    \"Berkshire Annual Reports\",\n",
        "    \"Marc Andreesen\",\n",
        "    \"Gitlab Manual\",\n",
        "    \"Super Founders Statistics\",\n",
        "    \"HBS 1963\",\n",
        "    \"David Hume and Adam Smith: The Infidel and the Professor\",\n",
        "    \"The Royal Society & The Invention of Modern Science\",\n",
        "    \"The Innovator’s Dilemma\",\n",
        "    \"Complexity – Mitchell Waldrop\",\n",
        "    \"A Short History of Nearly Everything – Bill Bryson\",\n",
        "    \"Deep Learning Interview Questions\",\n",
        "    \"Dianetics: The Modern Science of Mental Health\",\n",
        "    \"Fundraising – Ryan Breslow\",\n",
        "    \"The Last Question – Isaac Asimov\",\n",
        "    \"Dostoevsky – Notes from the Underground\",\n",
        "    \"Philosophy is a Meaningless Life\",\n",
        "    \"The Law – Frédéric Bastiat\",\n",
        "    \"The Gay Science: Nietzsche\",\n",
        "    \"Scaling People: Tactics for Management and Company Building\",\n",
        "    \"High Growth Handbook: Scaling Startups from 10 to 10,000 People\",\n",
        "    \"Napoleon: A life\",\n",
        "    \"Elon Musk – Walter Isaacson\",\n",
        "    \"Skin in the game – Nassim Taleb\",\n",
        "    \"Atlas Shrugged – Ayn Rand\",\n",
        "    \"Immoderate Greatness: Why Civilizations Fail\",\n",
        "    \"The Outsider – Albert Camus\",\n",
        "    \"The Metamorphosis of Prime Intellect\",\n",
        "    \"No Man Is An Island: A Study Of Singapore's Lee Kuan Yew\",\n",
        "    \"John Maynard Keynes: 1883-1946: Economist, Philosopher, Statesman\",\n",
        "    \"The Corrections – Jonathan Franzen\",\n",
        "    \"Principles – Ray Dalio\",\n",
        "    \"Monetising Innovation – Madhavan Ramanujan\",\n",
        "    \"Experimental Conversations – Timothy Odgen\",\n",
        "    \"The Beauty of Mathematics in Computer Science – Jun Wu\",\n",
        "    \"Grit: The Power of Passion and Perseverance\",\n",
        "    \"The Fountainhead – Ayn Rand\",\n",
        "    \"The Company Valuation Playbook\",\n",
        "    \"Invent and Wander (Jeff Bezos) – Walter Isaacson\",\n",
        "    \"Trillion Dollar Coach — Eric Schmidt\",\n",
        "    \"The Art of Statistics\",\n",
        "    \"The Hard Thing About Hard Things – Ben Horowitz\",\n",
        "    \"No Rules (Netflix) – Reed Hastings\",\n",
        "    \"The Phoenix Project\",\n",
        "    \"Delivering Happiness\",\n",
        "    \"The Ancient City – Imperium Press\",\n",
        "    \"The Machiavellians: Defenders of Freedom\",\n",
        "    \"Margin of Safety – Seth Klarman\",\n",
        "    \"Poor Charlie’s Almanac\",\n",
        "    \"Silicon Valley group blog\",\n",
        "    \"The Intelligent Investor – Benjamin Graham\",\n",
        "    \"Visualisations and Design\",\n",
        "    \"Statistics + Probability Exercises\",\n",
        "    \"How to Raise VC – Vinod Khosla\",\n",
        "    \"Sales Advice (B2B) – Retool CEO\",\n",
        "    \"Learning by Writing\",\n",
        "    \"Talking to customers\",\n",
        "    \"Deep Learning Jupyter Notebook Exercises\",\n",
        "    \"Andrej Karpathy | Machine Learning\",\n",
        "    \"Automate the Boring Stuff\",\n",
        "    \"Learn Blind Typing\",\n",
        "    \"Cambridge Mathematics Tripos Notes\",\n",
        "    \"DCF Model from scratch\",\n",
        "    \"Modern Web Development JS\",\n",
        "    \"Fetches random web 1.0 pages\",\n",
        "    \"George Hotz: hiring\",\n",
        "    \"Startup Advice – Keith Rabois\",\n",
        "    \"Philosophy of Life – Guy that did the MIT challenge\",\n",
        "    \"Why friendships don’t last forever\",\n",
        "    \"Resources for quickly learning about AI\",\n",
        "    \"MIT Learning Challenge – How to Learn Fast\",\n",
        "    \"Machine Learning Resources\",\n",
        "    \"Essays about Scaling Startups\",\n",
        "    \"How to be a great CTO\",\n",
        "    \"List of Books about VC – Christina Cacioppo\",\n",
        "    \"Bridgewater Insights Live\",\n",
        "    \"Improving SEO\",\n",
        "    \"Portfolio Optimisation Package – Robert Martin\",\n",
        "    \"Glide OpenAI Image Generation\",\n",
        "    \"Brian Armstrong – HN Post: Looking for a co-founder!\",\n",
        "    \"Sam Altman – How to succeed in your career\",\n",
        "    \"How to hire – Suhail\",\n",
        "    \"James Baldwin Speech Cambridge Union\",\n",
        "    \"Warren Buffet – Life, risk, principles, etc.\",\n",
        "    \"Jeff Bezos (2001)\",\n",
        "    \"The Future of Programming\",\n",
        "    \"Design – Incredible Story Telling\",\n",
        "    \"Stephen Schwazman – Family & Startup\",\n",
        "    \"Video Advert – SaaS\",\n",
        "    \"Maximising User Happiness Unscalably – Patrick Collison\",\n",
        "    \"How to build character into product\",\n",
        "    \"Mailchimp Founder: on money, family, early startup\",\n",
        "    \"Marc Andreesen: History of Technology\",\n",
        "    \"Nabeel Qureshi Advice\",\n",
        "    \"Early Stage Investors Database\",\n",
        "    \"Nat Friedman (Github CEO) Advice\",\n",
        "    \"Our World in Data\",\n",
        "    \"Patrick Collison Book Recommendations\",\n",
        "    \"Do Not Go Gentle into That Good Night – Dylan Thomas\",\n",
        "    \"If – Rudyard Kipling\",\n",
        "    \"A Thank You letter – Instacart\",\n",
        "    \"You can’t tell people anything\",\n",
        "    \"The Bitter Lesson – AI Progress via Scaling\",\n",
        "    \"On the shortness of life – Seneca\"\n",
        "    ]"
      ],
      "metadata": {
        "id": "gvG8LVpPhbU0"
      },
      "execution_count": null,
      "outputs": []
    },
    {
      "cell_type": "markdown",
      "source": [
        "### 1. **For each title, generate 5 keywords that describe it**"
      ],
      "metadata": {
        "id": "Zfx01xxEewQ0"
      }
    },
    {
      "cell_type": "code",
      "source": [
        "import openai\n",
        "\n",
        "numOfReq = len(titleArray)\n",
        "\n",
        "prompt = 'I have a book/aritcle/idea title. I want you to generate a list of 5 words that could be associated with the meaning and contents of the title. Only return the five words, separated by commas. The title is: '\n",
        "\n",
        "promptedArray = []\n",
        "\n",
        "def arrayOfPromptedTitles(titleArray):\n",
        "  for i in range(numOfReq):\n",
        "    promptedSentence = prompt + titleArray[i]\n",
        "    promptedArray.append(promptedSentence)\n",
        "  return promptedArray\n",
        "\n",
        "def reqOpenAI(sentence):\n",
        "\n",
        "    openai_api_key = \"sk-proj-HFxXLeAcGCo2QwQMdDztT3BlbkFJLG70EXaCnholv01c6USn\"\n",
        "\n",
        "    # Initialize the OpenAI client with your API key\n",
        "    openai.api_key = openai_api_key\n",
        "\n",
        "    # Call the API with the sentence\n",
        "    try:\n",
        "        response = openai.ChatCompletion.create(\n",
        "            model=\"gpt-4\",  # You can specify other models like \"gpt-4.5-turbo\", etc.\n",
        "            messages=[\n",
        "                {\"role\": \"system\", \"content\": \"You are ChatGPT, a helpful AI that only generates lists of words.\"},\n",
        "                {\"role\": \"user\", \"content\": sentence}\n",
        "            ]\n",
        "        )\n",
        "        # Extracting and returning the response text\n",
        "        return response.choices[0].message['content'] if 'content' in response.choices[0].message else \"No response text.\"\n",
        "    except Exception as e:\n",
        "        # Handle exceptions, such as API errors\n",
        "        return str(e)\n",
        "\n",
        "def genKeywordArray():\n",
        "\n",
        "  keywordArray = []\n",
        "  promptedArray = arrayOfPromptedTitles(titleArray)\n",
        "\n",
        "  for i in range(numOfReq):\n",
        "    getStr = reqOpenAI(promptedArray[i])\n",
        "    keywordArray.append(getStr)\n",
        "\n",
        "  return keywordArray\n",
        "\n",
        "print(genKeywordArray())"
      ],
      "metadata": {
        "colab": {
          "base_uri": "https://localhost:8080/"
        },
        "id": "H1iGTjcjc8Cj",
        "outputId": "cbfe66dc-6043-496d-a523-21f316db6690"
      },
      "execution_count": null,
      "outputs": [
        {
          "output_type": "stream",
          "name": "stdout",
          "text": [
            "[\"Sex-ratio, Parental Investment, Evolutionary Biology, Reproductive Strategy, Offspring's Condition\", 'Universe, Evolution, Astronomy, Life, Adaptation', 'Apple, Innovation, Biography, Entrepreneurship, Technology', 'Innovation, Paradigm, Discovery, Theory, Research', 'Innovation, Startups, Monopoly, Entrepreneurship, Silicon-Valley', 'Philosophy, Utilitarianism, Liberalism, Individualism, Autodidact', 'Physics, Motion, Energy, Forces, Momentum', 'Economics, Libertarianism, Administration, Praxeology, Government', 'Artificial Intelligence, Ethics, Coexistence, Adaptation, Technology', 'Space, Adventure, Travel, Humor, Aliens', 'Socrates, Metaphysics, Ethics, Enlightenment, Existentialism', 'Justice, Guilt, Morality, Law, Redemption', 'Revolution, lunar, rebellion, survival, autonomy', 'Dystopia, Conditioning, Technology, Totalitarianism, Humanity', 'Psychedelic, Counterculture, LSD, Hippies, Journey', 'Physics, Quantum, Reality, Knowledge, Progress', 'Stoicism, Philosophy, Reflections, Ethics, Empathy', 'Utopia, Science, Knowledge, Enlightenment, Philosophy', 'Neural Networks, Algorithms, Artificial Intelligence, Data Processing, Machine Learning', 'Guidance, Misinformation, Youth, Awareness, Skepticism', 'Brain-inspired, Quantum, Electron-tunneling, Superconductivity, Nanotechnology', 'Islam, Apologetics, Christianity, Conversion, Testimony', 'Entropy, Heat, Energy, Paradox, Physics', 'Progression, Gradual, Evolution, Adaptation, Innovation', 'Marketing, Persuasion, Salesmanship, Negotiation, Strategy', 'Gambling, Probability, Economics, Decision-making, Utility', 'Understanding, Explanation, Transparency, Comprehensibility, Clarity', 'Adaptability, Unpredictability, Flexibility, Resilience, Diversification', 'Engagement, Algorithm, Content, Hashtags, Influencer', 'Construction, Technology, Entrepreneurship, Innovation, Leadership', 'Blockchain, Cryptography, Decentralization, Ethereum, Automation', 'Knowledge, Ambition, Silence, Success, Wisdom', 'Innovation, Design, Strategy, Entrepreneurship, Marketing', 'Programming, Advertising, Technology, Engagement, Software', 'Career, Longevity, Time, Productivity, Lifespan', 'Innovation, Entrepreneurship, Technology, Venture, Growth', 'Investments, Buffett, Financial Strategies, Stock Market, Annual Reports', 'Commands, Input, Terminal, Programming, Scripts', 'Entrepreneurship, Innovation, Resources, Guide, Software', 'Leadership, Productivity, Innovation, Strategy, Empowerment', 'Physics, Heretical, Innovation, Quantics, Cosmology', 'Economics, Supply, Demand, Value, Exchange', 'Investments, Stocks, Finance, Buffet, Portfolio', 'Internet, Netscape, Entrepreneur, Venture Capital, Silicon Valley', 'Repository, Collaboration, Integration, Workflow, Commands', 'Entrepreneurs, Data, Startup, Success, Analysis', 'Business, Education, Harvard, Alumni, Leadership', 'Philosophy, Enlightenment, Economics, Skepticism, Morality', 'Innovation, Monarchy, Exploration, Enlightenment, Experimentation', 'Disruption, Creativity, Change, Strategy, Technology', 'Systems, Chaos, Interactions, Adaptation, Networks', 'Science, Evolution, Universe, Knowledge, Discovery', 'Artificial Intelligence, Algorithms, Neural Networks, Supervised Learning, TensorFlow', 'Scientology, L. Ron Hubbard, Mind, Therapy, Self-improvement', 'Donations, Entrepreneurship, Philanthropy, Finance, Networking', 'Entropy, Universe, Technology, Immortality, Infinity', 'Existentialism, Despair, Rebellion, Isolation, Philosophy', 'Existentialism, Nihilism, Absurdism, Skepticism, Pessimism', 'Economics, Liberty, Government, Property, Justice', 'Philosophy, Morality, Aesthetics, Existentialism, Authenticity', 'Leadership, Strategy, Growth, Teams, Development', 'Entrepreneurship, Expansion, Strategy, Leadership, Innovation', 'Emperor, Conqueror, France, Waterloo, Revolution', 'Tesla, SpaceX, Biography, Innovation, Entrepreneurship', 'Risk, Uncertainty, Investment, Consequences, Involvement', 'Capitalism, Objectivism, Industrialism, Individualism, Philosophy', 'Decline, Mismanagement, Overreach, Unsustainability, Collapse', 'Existentialism, Alienation, Absurdity, Rebellion, Philosophy', 'Transformation, Artificial Intelligence, Evolution, Transcendence, Singularity', 'Leadership, Governance, Transformation, Asia, Strategic', 'Macroeconomics, Keynesianism, Policy, Depression, Interventionism', 'Family, Midwest, Dysfunction, Relationships, Modernity', 'Investment, Excellence, Innovation, Principles, Leadership', 'Strategy, Pricing, Creativity, Profitability, Innovation', 'Interviews, Innovation, Social Science, Experimentation, Dialogue', 'Algorithms, Computation, Abstraction, Logic, Complexity', 'Determination, Resilience, Tenacity, Motivation, Ambition', 'Individualism, Architecture, Capitalism, Objectivism, Ethics', 'Investment, Finances, Analysis, Corporate, Strategy', 'Amazon, Innovation, Leadership, Entrepreneurship, Exploration', 'Leadership, Entrepreneurship, Mentoring, Technology, Business', 'Data, Probability, Analysis, Quantification, Patterns', 'Entrepreneurship, Leadership, Challenges, Management, Resilience', 'Netflix, Innovation, Leadership, Disruption, Autonomy', 'Revival, Transformation, Change, Resilience, Innovation', 'Joy, Fulfillment, Service, Satisfaction, Positivity', 'Archaeology, Civilization, Historical, Ruins, Monument', 'Politics, Power, Strategy, Liberty, Manipulation', 'Investing, Risk, Finance, Value, Stock-market', 'Investment, Wisdom, Philosophy, Munger, Finance', 'Technology, Innovation, Startups, Entrepreneurship, Networking', 'Stocks, Analysis, Financial, Strategy, Investments', 'Graphics, Aesthetics, Creativity, Interactivity, Illustration', 'Numbers, Analysis, Calculations, Distribution, Variables', 'Venture Capital, Fundraising, Startups, Silicon Valley, Entrepreneurship', 'Negotiation, Leadership, Strategy, Clients, Profits', 'Education, Creativity, Literacy, Expression, Knowledge', 'Communication, Sales, Feedback, Satisfaction, Relationship', 'Algorithms, Python, Data Science, Machine Learning, Visualization', 'Algorithms, Artificial Intelligence, Neural Networks, Data Science, Robotics', 'Programming, Efficiency, Scripts, Tasks, Technology', 'Keyboard, Speed, Accuracy, Touch, Practice', 'Equations, Geometry, Calculus, Theorems, Algorithms', 'Valuation, Cashflow, Forecasting, Investment, Analysis', 'JavaScript, Frameworks, Coding, Responsive, Backend', 'Browsing, Archival, Retro, Internet, Exploration', 'Recruitment, Technology, Entrepreneurship, Programming, Innovation', 'Entrepreneurship, Innovation, Leadership, Strategy, Investment', 'Education, Determination, Self-Improvement, Philosophy, Challenge', 'Drift, Reconciliation, Change, Memories, Farewell', 'Tutorial, Algorithm, Machine-Learning, Programming, Neural-Network', 'Education, Acceleration, Innovation, Efficiency, Experimentation', 'Algorithms, Training, Data, Prediction, Analysis', 'Growth, Innovation, Entrepreneurship, Funding, Expansion', 'Leadership, Innovation, Technology, Strategy, Vision', 'Venture Capital, Entrepreneurship, Investments, Startup, Finance', 'Finance, Market, Analysis, Investment, Webinar', 'Keywords, Optimization, Ranking, Content, Backlinks', 'Investment, Strategy, Efficiency, Analysis, Risk Management', 'Artificial Intelligence, Visualisation, Algorithms, Programming, Technology', 'Cryptocurrency, Coinbase, Startup, Entrepreneurship, Partnership', 'Ambition, Productivity, Leadership, Networking, Strategy', 'Recruitment, Interview, Talent, Selection, Strategy', 'Civil Rights, Racism, Literature, Debate, Activism', 'Investments, Philanthropy, Berkshire Hathaway, Stocks, Strategies', 'Amazon, Entrepreneurship, Innovation, eCommerce, Space', 'Algorithms, Artificial Intelligence, Coding, Innovation, Technology', 'Creativity, Interpretation, Narrative, Visualization, Innovation', 'Investment, Entrepreneurship, Dynasty, Finance, Leadership', 'Marketing, Subscription, Software, Online, Promotion', 'Satisfaction, optimization, scalability, user-centric, positivity', 'Integrity, Quality, Personality, Craftsmanship, Authenticity', 'Entrepreneurship, Marketing, Wealth, Relationships, Pioneering', 'Silicon Valley, Netscape, Innovation, Entrepreneurship, Internet', 'Islam, conversion, Christianity, apologetics, spirituality', 'Venture, Capital, Startups, Funding, Equity', 'Coding, Collaboration, Leadership, Innovation, Open-source', 'Statistics, Global, Research, Information, Trends', 'Reading, Literature, Entrepreneurship, Technology, Knowledge', 'Resistance, Twilight, Mortality, Persistence, Passion', 'Poetry, Wisdom, Resilience, Virtues, Patience', 'Groceries, Delivery, Gratitude, App, Convenience', 'Communication, Perception, Understanding, Influence, Misunderstanding', 'Innovation, Algorithms, Computation, Automation, Optimization', 'Philosophy, Mortality, Time, Stoicism, Wisdom']\n"
          ]
        }
      ]
    },
    {
      "cell_type": "code",
      "source": [
        "import json\n",
        "\n",
        "file_path = '/content/keywordArray.json'\n",
        "\n",
        "# Read and parse the JSON file\n",
        "with open(file_path, 'r') as file:\n",
        "    keywordArraySaved = json.load(file)\n",
        "\n",
        "print(titleArray[144])\n"
      ],
      "metadata": {
        "colab": {
          "base_uri": "https://localhost:8080/"
        },
        "id": "UoMJ4iNrTAp0",
        "outputId": "f7390b1d-a119-4adc-fee7-2d50d31cac35"
      },
      "execution_count": 55,
      "outputs": [
        {
          "output_type": "stream",
          "name": "stdout",
          "text": [
            "On the shortness of life – Seneca\n"
          ]
        }
      ]
    },
    {
      "cell_type": "markdown",
      "source": [
        "### **2. For each set of keywords, generate an embedding**"
      ],
      "metadata": {
        "id": "59axgguCe_Jb"
      }
    },
    {
      "cell_type": "code",
      "source": [
        "import requests\n",
        "import json\n",
        "\n",
        "# Define the API key and endpoint\n",
        "api_key = 'sk-proj-HFxXLeAcGCo2QwQMdDztT3BlbkFJLG70EXaCnholv01c6USn'\n",
        "endpoint = 'https://api.openai.com/v1/embeddings'\n",
        "\n",
        "# Prepare the headers\n",
        "headers = {\n",
        "    'Authorization': f'Bearer {api_key}',\n",
        "    'Content-Type': 'application/json'\n",
        "}\n",
        "\n",
        "# Define the data to send in the request body\n",
        "data = {\n",
        "    \"input\": keywordArraySaved,\n",
        "    \"model\": \"text-embedding-ada-002\"\n",
        "}\n",
        "\n",
        "# Convert the data dictionary to JSON\n",
        "json_data = json.dumps(data)\n",
        "\n",
        "# Make the POST request\n",
        "response = requests.post(endpoint, headers=headers, data=json_data)\n",
        "\n",
        "# Check the response\n",
        "if response.status_code == 200:\n",
        "    embeddings = response.json()\n",
        "    # Write embeddings to a JSON file\n",
        "    with open('embeddings.json', 'w') as f:\n",
        "        json.dump(embeddings, f)\n",
        "    print(\"Embeddings saved to file successfully!\")\n",
        "else:\n",
        "    print(\"Failed to create embeddings:\", response.status_code, response.text)\n"
      ],
      "metadata": {
        "colab": {
          "base_uri": "https://localhost:8080/"
        },
        "id": "F-e-E-CDWI3M",
        "outputId": "d2e77472-7b2c-41b2-c8f4-0a12f488f195"
      },
      "execution_count": 56,
      "outputs": [
        {
          "output_type": "stream",
          "name": "stdout",
          "text": [
            "Embeddings saved to file successfully!\n"
          ]
        }
      ]
    },
    {
      "cell_type": "markdown",
      "source": [
        "### **3.Deterime Hopkins statistic: how well does the data cluster**"
      ],
      "metadata": {
        "id": "p9B0j0Omflo5"
      }
    },
    {
      "cell_type": "code",
      "source": [
        "from sklearn.neighbors import NearestNeighbors\n",
        "import numpy as np\n",
        "\n",
        "\n",
        "def hopkins_statistic(X):\n",
        "    n, d = X.shape\n",
        "    m = int(0.1 * n)  # Use 10% of points as random points\n",
        "    nbrs = NearestNeighbors(n_neighbors=2).fit(X)  # Request 2 neighbors: the point itself and its nearest neighbor\n",
        "\n",
        "    rand_X = np.random.uniform(X.min(axis=0), X.max(axis=0), (m, d))\n",
        "    u_distances = nbrs.kneighbors(rand_X, return_distance=True)[0][:, 1].mean()  # Distances to nearest neighbor from random points\n",
        "    w_distances = nbrs.kneighbors(X, return_distance=True)[0][:, 1].mean()  # Distances to nearest neighbor from actual points\n",
        "\n",
        "    hopkins_stat = u_distances / (u_distances + w_distances)\n",
        "    return hopkins_stat\n",
        "\n",
        "# Calculate the Hopkins statistic\n",
        "hopkins_statistic_value = hopkins_statistic(principal_df.values)\n",
        "print(f\"Hopkins statistic: {hopkins_statistic_value}\")"
      ],
      "metadata": {
        "colab": {
          "base_uri": "https://localhost:8080/"
        },
        "id": "NYMwSg8WZuOo",
        "outputId": "9e59381f-d9b0-4d23-8093-d517357530f8"
      },
      "execution_count": 58,
      "outputs": [
        {
          "output_type": "stream",
          "name": "stdout",
          "text": [
            "Hopkins statistic: 0.7762979616059313\n"
          ]
        }
      ]
    },
    {
      "cell_type": "markdown",
      "source": [
        "### **4. Find the PCAs of the embeddings and plot in two dimensions**"
      ],
      "metadata": {
        "id": "oMcIfmHqf8H8"
      }
    },
    {
      "cell_type": "code",
      "source": [
        "import json\n",
        "import pandas as pd\n",
        "from sklearn.decomposition import PCA\n",
        "import plotly.express as px\n",
        "\n",
        "# Load data directly from the specified path\n",
        "with open('/content/embeddings.json', 'r') as file:\n",
        "    data = json.load(file)\n",
        "    embeddings = [entry['embedding'] for entry in data['data']]\n",
        "\n",
        "# Convert embeddings to a DataFrame\n",
        "df_embeddings = pd.DataFrame(embeddings)\n",
        "\n",
        "# Apply PCA to reduce dimensions to 2\n",
        "pca = PCA(n_components=2)\n",
        "principal_components = pca.fit_transform(df_embeddings)\n",
        "\n",
        "# Convert the PCA result into a DataFrame\n",
        "principal_df = pd.DataFrame(data = principal_components,\n",
        "                            columns = ['Principal Component 1', 'Principal Component 2'])\n",
        "\n",
        "# Add the sentences for hover information\n",
        "principal_df['Sentence'] = sentences\n",
        "\n",
        "# Create a Plotly Express scatter plot\n",
        "fig = px.scatter(principal_df, x='Principal Component 1', y='Principal Component 2',\n",
        "                 hover_data=['Sentence'],\n",
        "                 title='2D PCA of Embeddings with Sentences',\n",
        "                 labels={'Principal Component 1': 'Principal Component 1', 'Principal Component 2': 'Principal Component 2'})\n",
        "\n",
        "# Show the figure\n",
        "fig.show()"
      ],
      "metadata": {
        "colab": {
          "base_uri": "https://localhost:8080/",
          "height": 542
        },
        "id": "Sjxl0RFUaJfl",
        "outputId": "2b66f249-d24c-4332-f957-2e7f298b6236"
      },
      "execution_count": 77,
      "outputs": [
        {
          "output_type": "display_data",
          "data": {
            "text/html": [
              "<html>\n",
              "<head><meta charset=\"utf-8\" /></head>\n",
              "<body>\n",
              "    <div>            <script src=\"https://cdnjs.cloudflare.com/ajax/libs/mathjax/2.7.5/MathJax.js?config=TeX-AMS-MML_SVG\"></script><script type=\"text/javascript\">if (window.MathJax && window.MathJax.Hub && window.MathJax.Hub.Config) {window.MathJax.Hub.Config({SVG: {font: \"STIX-Web\"}});}</script>                <script type=\"text/javascript\">window.PlotlyConfig = {MathJaxConfig: 'local'};</script>\n",
              "        <script charset=\"utf-8\" src=\"https://cdn.plot.ly/plotly-2.24.1.min.js\"></script>                <div id=\"e88993c4-cc60-4855-9aba-9e3d47e0f586\" class=\"plotly-graph-div\" style=\"height:525px; width:100%;\"></div>            <script type=\"text/javascript\">                                    window.PLOTLYENV=window.PLOTLYENV || {};                                    if (document.getElementById(\"e88993c4-cc60-4855-9aba-9e3d47e0f586\")) {                    Plotly.newPlot(                        \"e88993c4-cc60-4855-9aba-9e3d47e0f586\",                        [{\"customdata\":[[\"Trivers\\u2013Willard hypothesis\"],[\"Cosmic Natural Selection\"],[\"Steve Jobs \\u2013 Walter Isaacson\"],[\"The Structure of Scientific Revolutions\"],[\"Zero to One \\u2013 Peter Thiel\"],[\"John Stuart Mill \\u2013 Autobiography\"],[\"Classical Mechanics \\u2013 Leonard Susskind\"],[\"Bureaucracy \\u2013 Ludwig von Mises\"],[\"Human Compatible\"],[\"The Hitchhiker\\u2019s Guide to the Galaxy\"],[\"The History of Philosophy\"],[\"Crime and Punishment\"],[\"The Moon is a Harsh Mistress\"],[\"Brave New World \\u2013 Aldous Huxley\"],[\"The Electric Kool-Aid Acid Test\"],[\"The Beginning of Infinity \\u2013 David Deutsch\"],[\"Meditations \\u2013 Marcus Aurelius\"],[\"New Atlantis \\u2013 Francis Bacon\"],[\"The Little Book on Deep Learning\"],[\"Advice to Young People: The Lies they Tell You\"],[\"Neuromorphic Computing: Semiconductors to Josephson Junctions\"],[\"Nabeel Quereshi \\u2013 Principles\"],[\"Maxwell\\u2019s demon \\u2013 An Attempt to Disprove the 2nd Law of Thermodynamics\"],[\"Incrementalism\"],[\"How To Sell \\u2013 Nabeel Quereshi\"],[\"St Petersburg Paradox\"],[\"Interpretability\"],[\"Optimise for Volatility\"],[\"Tactics to grow social media\"],[\"Tracy Young Plangrid Startup Advice\"],[\"Smart Contracts (1994) Nick Szabo\"],[\"What Every Successful Person Knows, But Never Says\"],[\"Building Products \\u2013 Christina Cacioppo\"],[\"Marketing to Developers\"],[\"80,000 Hours\"],[\"Job Titles in Startups\"],[\"Nuggets of Wisdom: Berkshire Shareholder Letters\"],[\"Command-line Interface\"],[\"Startup tools\\u2013 free\"],[\"Superhuman CEO Blog\"],[\"Freeman Dyson Heresies\"],[\"How Markets Determine Price\"],[\"Berkshire Annual Reports\"],[\"Marc Andreesen\"],[\"Gitlab Manual\"],[\"Super Founders Statistics\"],[\"HBS 1963\"],[\"David Hume and Adam Smith: The Infidel and the Professor\"],[\"The Royal Society & The Invention of Modern Science\"],[\"The Innovator\\u2019s Dilemma\"],[\"Complexity \\u2013 Mitchell Waldrop\"],[\"A Short History of Nearly Everything \\u2013 Bill Bryson\"],[\"Deep Learning Interview Questions\"],[\"Dianetics: The Modern Science of Mental Health\"],[\"Fundraising \\u2013 Ryan Breslow\"],[\"The Last Question \\u2013 Isaac Asimov\"],[\"Dostoevsky \\u2013 Notes from the Underground\"],[\"Philosophy is a Meaningless Life\"],[\"The Law \\u2013 Fr\\u00e9d\\u00e9ric Bastiat\"],[\"The Gay Science: Nietzsche\"],[\"Scaling People: Tactics for Management and Company Building\"],[\"High Growth Handbook: Scaling Startups from 10 to 10,000 People\"],[\"Napoleon: A life\"],[\"Elon Musk \\u2013 Walter Isaacson\"],[\"Skin in the game \\u2013 Nassim Taleb\"],[\"Atlas Shrugged \\u2013 Ayn Rand\"],[\"Immoderate Greatness: Why Civilizations Fail\"],[\"The Outsider \\u2013 Albert Camus\"],[\"The Metamorphosis of Prime Intellect\"],[\"No Man Is An Island: A Study Of Singapore's Lee Kuan Yew\"],[\"John Maynard Keynes: 1883-1946: Economist, Philosopher, Statesman\"],[\"The Corrections \\u2013 Jonathan Franzen\"],[\"Principles \\u2013 Ray Dalio\"],[\"Monetising Innovation \\u2013 Madhavan Ramanujan\"],[\"Experimental Conversations \\u2013 Timothy Odgen\"],[\"The Beauty of Mathematics in Computer Science \\u2013 Jun Wu\"],[\"Grit: The Power of Passion and Perseverance\"],[\"The Fountainhead \\u2013 Ayn Rand\"],[\"The Company Valuation Playbook\"],[\"Invent and Wander (Jeff Bezos) \\u2013 Walter Isaacson\"],[\"Trillion Dollar Coach \\u2014 Eric Schmidt\"],[\"The Art of Statistics\"],[\"The Hard Thing About Hard Things \\u2013 Ben Horowitz\"],[\"No Rules (Netflix) \\u2013 Reed Hastings\"],[\"The Phoenix Project\"],[\"Delivering Happiness\"],[\"The Ancient City \\u2013 Imperium Press\"],[\"The Machiavellians: Defenders of Freedom\"],[\"Margin of Safety \\u2013 Seth Klarman\"],[\"Poor Charlie\\u2019s Almanac\"],[\"Silicon Valley group blog\"],[\"The Intelligent Investor \\u2013 Benjamin Graham\"],[\"Visualisations and Design\"],[\"Statistics + Probability Exercises\"],[\"How to Raise VC \\u2013 Vinod Khosla\"],[\"Sales Advice (B2B) \\u2013 Retool CEO\"],[\"Learning by Writing\"],[\"Talking to customers\"],[\"Deep Learning Jupyter Notebook Exercises\"],[\"Andrej Karpathy | Machine Learning\"],[\"Automate the Boring Stuff\"],[\"Learn Blind Typing\"],[\"Cambridge Mathematics Tripos Notes\"],[\"DCF Model from scratch\"],[\"Modern Web Development JS\"],[\"Fetches random web 1.0 pages\"],[\"George Hotz: hiring\"],[\"Startup Advice \\u2013 Keith Rabois\"],[\"Philosophy of Life \\u2013 Guy that did the MIT challenge\"],[\"Why friendships don\\u2019t last forever\"],[\"Resources for quickly learning about AI\"],[\"MIT Learning Challenge \\u2013 How to Learn Fast\"],[\"Machine Learning Resources\"],[\"Essays about Scaling Startups\"],[\"How to be a great CTO\"],[\"List of Books about VC \\u2013 Christina Cacioppo\"],[\"Bridgewater Insights Live\"],[\"Improving SEO\"],[\"Portfolio Optimisation Package \\u2013 Robert Martin\"],[\"Glide OpenAI Image Generation\"],[\"Brian Armstrong \\u2013 HN Post: Looking for a co-founder!\"],[\"Sam Altman \\u2013 How to succeed in your career\"],[\"How to hire \\u2013 Suhail\"],[\"James Baldwin Speech Cambridge Union\"],[\"Warren Buffet \\u2013 Life, risk, principles, etc.\"],[\"Jeff Bezos (2001)\"],[\"The Future of Programming\"],[\"Design \\u2013 Incredible Story Telling\"],[\"Stephen Schwazman \\u2013 Family & Startup\"],[\"Video Advert \\u2013 SaaS\"],[\"Maximising User Happiness Unscalably \\u2013 Patrick Collison\"],[\"How to build character into product\"],[\"Mailchimp Founder: on money, family, early startup\"],[\"Marc Andreesen: History of Technology\"],[\"Nabeel Qureshi Advice\"],[\"Early Stage Investors Database\"],[\"Nat Friedman (Github CEO) Advice\"],[\"Our World in Data\"],[\"Patrick Collison Book Recommendations\"],[\"Do Not Go Gentle into That Good Night \\u2013 Dylan Thomas\"],[\"If \\u2013 Rudyard Kipling\"],[\"A Thank You letter \\u2013 Instacart\"],[\"You can\\u2019t tell people anything\"],[\"The Bitter Lesson \\u2013 AI Progress via Scaling\"],[\"On the shortness of life \\u2013 Seneca\"]],\"hovertemplate\":\"Principal Component 1=%{x}\\u003cbr\\u003ePrincipal Component 2=%{y}\\u003cbr\\u003eSentence=%{customdata[0]}\\u003cextra\\u003e\\u003c\\u002fextra\\u003e\",\"legendgroup\":\"\",\"marker\":{\"color\":\"#636efa\",\"symbol\":\"circle\"},\"mode\":\"markers\",\"name\":\"\",\"orientation\":\"v\",\"showlegend\":false,\"x\":[0.0009021332896170059,0.1360531990573943,-0.09600168731313168,-0.011458720210044666,-0.150968022258892,0.2292346192365167,0.10974525206101984,0.1282825544492677,0.12226468897175218,0.1298289282560188,0.2614774503116568,0.20379887054372456,0.15202516619577894,0.20092976421132025,0.1434150965402172,0.14816260486224686,0.22246576574265797,0.19824691742323058,-0.00522747079832634,0.10185644519850148,0.05389726020595962,0.15912805653396533,0.1908554172320639,-0.0031175301777714467,-0.08490802501813229,0.05139237434265675,0.06683527520778551,-0.03452410056393346,-0.03262216768566246,-0.1327370471282366,0.03387062965071004,0.05626698434447601,-0.1796483347252929,-0.07723895215074228,-0.0019841558791224316,-0.19267571655095347,-0.13678075035261558,0.022641115190810263,-0.17783845207426152,-0.14466081000406086,0.1426401208464253,0.009907196324874641,-0.10183727757829365,-0.13798062683072754,0.010092959912360158,-0.1650661567483919,-0.08907846156856923,0.18786187210771055,0.05669163504906354,-0.12101452564992327,0.07787833774490392,0.11671692851525496,0.02247451431819864,0.12695514929556798,-0.14713208806131198,0.1464705927060213,0.2849351414977028,0.2808945628969885,0.12342398714623798,0.22217745046373302,-0.15100330022590178,-0.21007521979142993,0.10652182459930765,-0.07367963210147946,-0.04581063286617877,0.13810965427563138,0.02918793130426294,0.2865901287837331,0.0966816133442089,-0.08589464088453035,0.06963042848713864,0.12222378048890052,-0.14013490668314926,-0.15305162659846927,-0.004218195899507889,0.09483324699586217,0.0048006817114014735,0.1381693136881479,-0.19303533868792988,-0.10956622209379006,-0.20009909698016018,0.03226001992899771,-0.13711393948342285,-0.08358239500747568,-0.026061233669451265,0.06568816713476101,0.13258580748674043,0.0717589494922057,-0.10966166686115301,-0.022430776599004866,-0.18379432485131245,-0.13222607599572314,0.05108831178356151,0.041745977283633655,-0.2068197552034278,-0.1340394728118201,0.05465672153005554,-0.046093933524230926,0.004223553455176958,-0.005062809884376228,-0.035953173621589576,0.041003733293419276,0.10267645944053744,-0.16230220855473296,0.034924297124149656,0.06856380460159126,-0.17160846287037146,-0.23388981683317892,0.10348935450810344,0.1493108167893545,-0.0005471319823708204,-0.06237573297455155,-0.043288955456664314,-0.21028222467431598,-0.17617888825640757,-0.21572624203032645,-0.14458696020990253,-0.02150100584146519,-0.16964247089833728,-0.010415097620989074,-0.1429871125532666,-0.16537648795091883,-0.13102491437881963,0.1540092510439371,-0.11226180532109328,-0.1210710090125076,-0.05728631267274243,-0.0351277595524548,-0.15774413434406498,-0.07543410587451342,0.022531227370494226,0.05513606686203871,-0.13940903773681873,-0.1236565553707928,0.14490032000524494,-0.20603089552787807,-0.05318168026656847,-0.029709495936105477,-0.05153499483291481,0.1650460517865925,0.14882935430464686,0.031499579008223436,0.04193178302210478,-0.03201611844772047,0.23280183881814961],\"xaxis\":\"x\",\"y\":[-0.03986342303118223,0.006232798022686851,-0.03260324214906027,0.018594437668581876,-0.058429375423967866,-0.09367783646343546,0.054570123360985094,-0.07356943485643916,0.08976191297308359,-0.002466382130307828,-0.10489156765718226,-0.0826468180762003,-0.0683676883220738,-0.007635394452923565,-0.06088359150607491,0.011952071856023275,-0.10614955619008748,-0.0502882499388712,0.31385835475241397,0.009106592303173724,0.10191128347356969,-0.017023729801751878,0.04285537670807706,0.006358601775631321,-0.028043999590382153,0.026906645884077516,0.052760385202613835,-0.06431317109204299,0.13285584419280816,-0.05214460041049182,0.14500297373267004,-0.09462174622371682,-0.0585078890543554,0.15381782012436235,-0.03113815726447792,-0.08787985508335444,-0.07957505211941775,0.1656063056667922,0.006762044732596043,-0.07492396105931776,0.023780742623679667,-0.024085399114293745,-0.06073276008312708,-0.02919372988094096,0.1272410173732647,0.02235029489672122,-0.05587111724125728,-0.12724668733788716,-0.08719468760618782,-0.011410252734838087,0.08321326508355253,0.028011203016485523,0.30575809850523783,-0.05201716459919057,-0.09560098639205314,0.03160091270119569,-0.14911779210924886,-0.10961322882453704,-0.12130878746895998,-0.13845362019091964,-0.05089480922412704,-0.11895081567148637,-0.05142961183878723,-0.039470419916573414,-0.04622000779699255,-0.13482676794509207,-0.10121465949626454,-0.11891842353809673,0.08282785196457554,-0.0637498144168146,-0.0501768603513256,-0.07022452346814638,-0.11954262058507927,-0.011032327204305272,0.02842341032446966,0.22622630843278743,-0.08643107181117414,-0.1222780526281895,-0.03815229103465839,-0.07839645310568917,-0.06553302292819901,0.19079658988437284,-0.13502136653476315,-0.021926608705317426,-0.0777366317709226,-0.06245615519424323,-0.005088013094305237,-0.06744973779651027,-0.07887416609583418,-0.14621175270829884,-0.002826152114339001,-0.012726476801407774,0.08337405218043252,0.18764359400955627,-0.06432178671426893,-0.06774875792991233,-0.016726377012170873,0.024690270470444208,0.300311361308455,0.28352527447105663,0.19373619436526096,0.13408678199944407,0.2138011168079839,0.029058774853571813,0.15421175163808618,0.06870006500509646,0.04030881154770759,-0.1333683393902497,-0.1144549578239426,-0.03390378175726573,0.325171149366593,0.003026835071552283,0.28128998074649836,-0.07460222366240259,-0.04993737542608971,-0.10763563049019594,0.026497440748006324,0.16515371886652658,-0.03712392040005714,0.27769016819122,0.0006838922062672827,-0.055896632352981625,0.048584200793460305,-0.05198521577541483,-0.12292642153104173,-0.03613753064120492,0.22110016398970264,0.015332452273654682,-0.16223256676709746,0.10382301159919943,0.06825589504342162,-0.07345178598550921,-0.13989174975137783,-0.023891018149996734,-0.032405049816534096,-0.059837444565439775,0.11030080322492823,0.09686241557751085,-0.06380470476358925,-0.07692775576513812,-0.10621128284455382,0.04946931653347896,0.01476197682838979,0.22003565857597643,-0.11595753695603728],\"yaxis\":\"y\",\"type\":\"scatter\"}],                        {\"template\":{\"data\":{\"histogram2dcontour\":[{\"type\":\"histogram2dcontour\",\"colorbar\":{\"outlinewidth\":0,\"ticks\":\"\"},\"colorscale\":[[0.0,\"#0d0887\"],[0.1111111111111111,\"#46039f\"],[0.2222222222222222,\"#7201a8\"],[0.3333333333333333,\"#9c179e\"],[0.4444444444444444,\"#bd3786\"],[0.5555555555555556,\"#d8576b\"],[0.6666666666666666,\"#ed7953\"],[0.7777777777777778,\"#fb9f3a\"],[0.8888888888888888,\"#fdca26\"],[1.0,\"#f0f921\"]]}],\"choropleth\":[{\"type\":\"choropleth\",\"colorbar\":{\"outlinewidth\":0,\"ticks\":\"\"}}],\"histogram2d\":[{\"type\":\"histogram2d\",\"colorbar\":{\"outlinewidth\":0,\"ticks\":\"\"},\"colorscale\":[[0.0,\"#0d0887\"],[0.1111111111111111,\"#46039f\"],[0.2222222222222222,\"#7201a8\"],[0.3333333333333333,\"#9c179e\"],[0.4444444444444444,\"#bd3786\"],[0.5555555555555556,\"#d8576b\"],[0.6666666666666666,\"#ed7953\"],[0.7777777777777778,\"#fb9f3a\"],[0.8888888888888888,\"#fdca26\"],[1.0,\"#f0f921\"]]}],\"heatmap\":[{\"type\":\"heatmap\",\"colorbar\":{\"outlinewidth\":0,\"ticks\":\"\"},\"colorscale\":[[0.0,\"#0d0887\"],[0.1111111111111111,\"#46039f\"],[0.2222222222222222,\"#7201a8\"],[0.3333333333333333,\"#9c179e\"],[0.4444444444444444,\"#bd3786\"],[0.5555555555555556,\"#d8576b\"],[0.6666666666666666,\"#ed7953\"],[0.7777777777777778,\"#fb9f3a\"],[0.8888888888888888,\"#fdca26\"],[1.0,\"#f0f921\"]]}],\"heatmapgl\":[{\"type\":\"heatmapgl\",\"colorbar\":{\"outlinewidth\":0,\"ticks\":\"\"},\"colorscale\":[[0.0,\"#0d0887\"],[0.1111111111111111,\"#46039f\"],[0.2222222222222222,\"#7201a8\"],[0.3333333333333333,\"#9c179e\"],[0.4444444444444444,\"#bd3786\"],[0.5555555555555556,\"#d8576b\"],[0.6666666666666666,\"#ed7953\"],[0.7777777777777778,\"#fb9f3a\"],[0.8888888888888888,\"#fdca26\"],[1.0,\"#f0f921\"]]}],\"contourcarpet\":[{\"type\":\"contourcarpet\",\"colorbar\":{\"outlinewidth\":0,\"ticks\":\"\"}}],\"contour\":[{\"type\":\"contour\",\"colorbar\":{\"outlinewidth\":0,\"ticks\":\"\"},\"colorscale\":[[0.0,\"#0d0887\"],[0.1111111111111111,\"#46039f\"],[0.2222222222222222,\"#7201a8\"],[0.3333333333333333,\"#9c179e\"],[0.4444444444444444,\"#bd3786\"],[0.5555555555555556,\"#d8576b\"],[0.6666666666666666,\"#ed7953\"],[0.7777777777777778,\"#fb9f3a\"],[0.8888888888888888,\"#fdca26\"],[1.0,\"#f0f921\"]]}],\"surface\":[{\"type\":\"surface\",\"colorbar\":{\"outlinewidth\":0,\"ticks\":\"\"},\"colorscale\":[[0.0,\"#0d0887\"],[0.1111111111111111,\"#46039f\"],[0.2222222222222222,\"#7201a8\"],[0.3333333333333333,\"#9c179e\"],[0.4444444444444444,\"#bd3786\"],[0.5555555555555556,\"#d8576b\"],[0.6666666666666666,\"#ed7953\"],[0.7777777777777778,\"#fb9f3a\"],[0.8888888888888888,\"#fdca26\"],[1.0,\"#f0f921\"]]}],\"mesh3d\":[{\"type\":\"mesh3d\",\"colorbar\":{\"outlinewidth\":0,\"ticks\":\"\"}}],\"scatter\":[{\"fillpattern\":{\"fillmode\":\"overlay\",\"size\":10,\"solidity\":0.2},\"type\":\"scatter\"}],\"parcoords\":[{\"type\":\"parcoords\",\"line\":{\"colorbar\":{\"outlinewidth\":0,\"ticks\":\"\"}}}],\"scatterpolargl\":[{\"type\":\"scatterpolargl\",\"marker\":{\"colorbar\":{\"outlinewidth\":0,\"ticks\":\"\"}}}],\"bar\":[{\"error_x\":{\"color\":\"#2a3f5f\"},\"error_y\":{\"color\":\"#2a3f5f\"},\"marker\":{\"line\":{\"color\":\"#E5ECF6\",\"width\":0.5},\"pattern\":{\"fillmode\":\"overlay\",\"size\":10,\"solidity\":0.2}},\"type\":\"bar\"}],\"scattergeo\":[{\"type\":\"scattergeo\",\"marker\":{\"colorbar\":{\"outlinewidth\":0,\"ticks\":\"\"}}}],\"scatterpolar\":[{\"type\":\"scatterpolar\",\"marker\":{\"colorbar\":{\"outlinewidth\":0,\"ticks\":\"\"}}}],\"histogram\":[{\"marker\":{\"pattern\":{\"fillmode\":\"overlay\",\"size\":10,\"solidity\":0.2}},\"type\":\"histogram\"}],\"scattergl\":[{\"type\":\"scattergl\",\"marker\":{\"colorbar\":{\"outlinewidth\":0,\"ticks\":\"\"}}}],\"scatter3d\":[{\"type\":\"scatter3d\",\"line\":{\"colorbar\":{\"outlinewidth\":0,\"ticks\":\"\"}},\"marker\":{\"colorbar\":{\"outlinewidth\":0,\"ticks\":\"\"}}}],\"scattermapbox\":[{\"type\":\"scattermapbox\",\"marker\":{\"colorbar\":{\"outlinewidth\":0,\"ticks\":\"\"}}}],\"scatterternary\":[{\"type\":\"scatterternary\",\"marker\":{\"colorbar\":{\"outlinewidth\":0,\"ticks\":\"\"}}}],\"scattercarpet\":[{\"type\":\"scattercarpet\",\"marker\":{\"colorbar\":{\"outlinewidth\":0,\"ticks\":\"\"}}}],\"carpet\":[{\"aaxis\":{\"endlinecolor\":\"#2a3f5f\",\"gridcolor\":\"white\",\"linecolor\":\"white\",\"minorgridcolor\":\"white\",\"startlinecolor\":\"#2a3f5f\"},\"baxis\":{\"endlinecolor\":\"#2a3f5f\",\"gridcolor\":\"white\",\"linecolor\":\"white\",\"minorgridcolor\":\"white\",\"startlinecolor\":\"#2a3f5f\"},\"type\":\"carpet\"}],\"table\":[{\"cells\":{\"fill\":{\"color\":\"#EBF0F8\"},\"line\":{\"color\":\"white\"}},\"header\":{\"fill\":{\"color\":\"#C8D4E3\"},\"line\":{\"color\":\"white\"}},\"type\":\"table\"}],\"barpolar\":[{\"marker\":{\"line\":{\"color\":\"#E5ECF6\",\"width\":0.5},\"pattern\":{\"fillmode\":\"overlay\",\"size\":10,\"solidity\":0.2}},\"type\":\"barpolar\"}],\"pie\":[{\"automargin\":true,\"type\":\"pie\"}]},\"layout\":{\"autotypenumbers\":\"strict\",\"colorway\":[\"#636efa\",\"#EF553B\",\"#00cc96\",\"#ab63fa\",\"#FFA15A\",\"#19d3f3\",\"#FF6692\",\"#B6E880\",\"#FF97FF\",\"#FECB52\"],\"font\":{\"color\":\"#2a3f5f\"},\"hovermode\":\"closest\",\"hoverlabel\":{\"align\":\"left\"},\"paper_bgcolor\":\"white\",\"plot_bgcolor\":\"#E5ECF6\",\"polar\":{\"bgcolor\":\"#E5ECF6\",\"angularaxis\":{\"gridcolor\":\"white\",\"linecolor\":\"white\",\"ticks\":\"\"},\"radialaxis\":{\"gridcolor\":\"white\",\"linecolor\":\"white\",\"ticks\":\"\"}},\"ternary\":{\"bgcolor\":\"#E5ECF6\",\"aaxis\":{\"gridcolor\":\"white\",\"linecolor\":\"white\",\"ticks\":\"\"},\"baxis\":{\"gridcolor\":\"white\",\"linecolor\":\"white\",\"ticks\":\"\"},\"caxis\":{\"gridcolor\":\"white\",\"linecolor\":\"white\",\"ticks\":\"\"}},\"coloraxis\":{\"colorbar\":{\"outlinewidth\":0,\"ticks\":\"\"}},\"colorscale\":{\"sequential\":[[0.0,\"#0d0887\"],[0.1111111111111111,\"#46039f\"],[0.2222222222222222,\"#7201a8\"],[0.3333333333333333,\"#9c179e\"],[0.4444444444444444,\"#bd3786\"],[0.5555555555555556,\"#d8576b\"],[0.6666666666666666,\"#ed7953\"],[0.7777777777777778,\"#fb9f3a\"],[0.8888888888888888,\"#fdca26\"],[1.0,\"#f0f921\"]],\"sequentialminus\":[[0.0,\"#0d0887\"],[0.1111111111111111,\"#46039f\"],[0.2222222222222222,\"#7201a8\"],[0.3333333333333333,\"#9c179e\"],[0.4444444444444444,\"#bd3786\"],[0.5555555555555556,\"#d8576b\"],[0.6666666666666666,\"#ed7953\"],[0.7777777777777778,\"#fb9f3a\"],[0.8888888888888888,\"#fdca26\"],[1.0,\"#f0f921\"]],\"diverging\":[[0,\"#8e0152\"],[0.1,\"#c51b7d\"],[0.2,\"#de77ae\"],[0.3,\"#f1b6da\"],[0.4,\"#fde0ef\"],[0.5,\"#f7f7f7\"],[0.6,\"#e6f5d0\"],[0.7,\"#b8e186\"],[0.8,\"#7fbc41\"],[0.9,\"#4d9221\"],[1,\"#276419\"]]},\"xaxis\":{\"gridcolor\":\"white\",\"linecolor\":\"white\",\"ticks\":\"\",\"title\":{\"standoff\":15},\"zerolinecolor\":\"white\",\"automargin\":true,\"zerolinewidth\":2},\"yaxis\":{\"gridcolor\":\"white\",\"linecolor\":\"white\",\"ticks\":\"\",\"title\":{\"standoff\":15},\"zerolinecolor\":\"white\",\"automargin\":true,\"zerolinewidth\":2},\"scene\":{\"xaxis\":{\"backgroundcolor\":\"#E5ECF6\",\"gridcolor\":\"white\",\"linecolor\":\"white\",\"showbackground\":true,\"ticks\":\"\",\"zerolinecolor\":\"white\",\"gridwidth\":2},\"yaxis\":{\"backgroundcolor\":\"#E5ECF6\",\"gridcolor\":\"white\",\"linecolor\":\"white\",\"showbackground\":true,\"ticks\":\"\",\"zerolinecolor\":\"white\",\"gridwidth\":2},\"zaxis\":{\"backgroundcolor\":\"#E5ECF6\",\"gridcolor\":\"white\",\"linecolor\":\"white\",\"showbackground\":true,\"ticks\":\"\",\"zerolinecolor\":\"white\",\"gridwidth\":2}},\"shapedefaults\":{\"line\":{\"color\":\"#2a3f5f\"}},\"annotationdefaults\":{\"arrowcolor\":\"#2a3f5f\",\"arrowhead\":0,\"arrowwidth\":1},\"geo\":{\"bgcolor\":\"white\",\"landcolor\":\"#E5ECF6\",\"subunitcolor\":\"white\",\"showland\":true,\"showlakes\":true,\"lakecolor\":\"white\"},\"title\":{\"x\":0.05},\"mapbox\":{\"style\":\"light\"}}},\"xaxis\":{\"anchor\":\"y\",\"domain\":[0.0,1.0],\"title\":{\"text\":\"Principal Component 1\"}},\"yaxis\":{\"anchor\":\"x\",\"domain\":[0.0,1.0],\"title\":{\"text\":\"Principal Component 2\"}},\"legend\":{\"tracegroupgap\":0},\"title\":{\"text\":\"2D PCA of Embeddings with Sentences\"}},                        {\"responsive\": true}                    ).then(function(){\n",
              "                            \n",
              "var gd = document.getElementById('e88993c4-cc60-4855-9aba-9e3d47e0f586');\n",
              "var x = new MutationObserver(function (mutations, observer) {{\n",
              "        var display = window.getComputedStyle(gd).display;\n",
              "        if (!display || display === 'none') {{\n",
              "            console.log([gd, 'removed!']);\n",
              "            Plotly.purge(gd);\n",
              "            observer.disconnect();\n",
              "        }}\n",
              "}});\n",
              "\n",
              "// Listen for the removal of the full notebook cells\n",
              "var notebookContainer = gd.closest('#notebook-container');\n",
              "if (notebookContainer) {{\n",
              "    x.observe(notebookContainer, {childList: true});\n",
              "}}\n",
              "\n",
              "// Listen for the clearing of the current output cell\n",
              "var outputEl = gd.closest('.output');\n",
              "if (outputEl) {{\n",
              "    x.observe(outputEl, {childList: true});\n",
              "}}\n",
              "\n",
              "                        })                };                            </script>        </div>\n",
              "</body>\n",
              "</html>"
            ]
          },
          "metadata": {}
        }
      ]
    },
    {
      "cell_type": "code",
      "source": [
        "def findKeyWords(title):\n",
        "  keyWordIndex = titleArray.index(title)\n",
        "  return keywordArraySaved[keyWordIndex]\n",
        "\n",
        "print(findKeyWords(\"HBS 1963\"))"
      ],
      "metadata": {
        "colab": {
          "base_uri": "https://localhost:8080/"
        },
        "id": "3Xg9UYiRbBfy",
        "outputId": "4b2ec911-aed6-4ed8-e7ad-e72ac88ba4e6"
      },
      "execution_count": 75,
      "outputs": [
        {
          "output_type": "stream",
          "name": "stdout",
          "text": [
            "Business, Education, Harvard, Alumni, Leadership\n"
          ]
        }
      ]
    }
  ]
}